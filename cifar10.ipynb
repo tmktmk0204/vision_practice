{
 "cells": [
  {
   "cell_type": "markdown",
   "metadata": {},
   "source": [
    "## 1st practice cifar10"
   ]
  },
  {
   "cell_type": "code",
   "execution_count": 16,
   "metadata": {},
   "outputs": [],
   "source": [
    "import matplotlib.pyplot as plt\n",
    "import keras\n",
    "from tensorflow.keras.models import Sequential, Model\n",
    "from tensorflow.keras.layers import Input, Conv2D, MaxPool2D, BatchNormalization, ReLU, Flatten, Dense, Add, Dropout, Activation\n",
    "from tensorflow.keras.optimizers import Adam\n",
    "import tensorflow as tf\n",
    "from keras.datasets import cifar10"
   ]
  },
  {
   "cell_type": "code",
   "execution_count": 2,
   "metadata": {},
   "outputs": [],
   "source": [
    "#データのロード\n",
    "(X_train, y_train), (X_test, y_test) = cifar10.load_data()\n",
    "\n",
    "#０〜１へ正則化\n",
    "X_train = X_train.astype(\"float32\")/255.0\n",
    "X_test = X_test.astype(\"float32\")/255.0\n",
    "\n",
    "# 目的変数のone-hotエンコーディング\n",
    "Y_train = keras.utils.to_categorical(y_train)\n",
    "Y_test = keras.utils.to_categorical(y_test)\n",
    "\n",
    "input_shape = X_train.shape[1:]\n",
    "train_samples = X_train.shape[0]\n",
    "test_samples = X_test.shape[0]\n"
   ]
  },
  {
   "cell_type": "code",
   "execution_count": 6,
   "metadata": {},
   "outputs": [
    {
     "name": "stdout",
     "output_type": "stream",
     "text": [
      "(50000, 32, 32, 3)\n",
      "(50000, 10)\n",
      "(10000, 32, 32, 3)\n",
      "(10000, 10)\n"
     ]
    }
   ],
   "source": [
    "print(X_train.shape)\n",
    "print(Y_train.shape)\n",
    "print(X_test.shape)\n",
    "print(Y_test.shape)"
   ]
  },
  {
   "cell_type": "code",
   "execution_count": 12,
   "metadata": {},
   "outputs": [],
   "source": [
    "num_classes = 10\n",
    "\n",
    "model = Sequential()\n",
    "\n",
    "#CNN layer1\n",
    "model.add(Conv2D(32, (3,3), padding=\"same\", #3✖️3のフィルタを32枚用意し，outputが32枚になるようにする\n",
    "                 input_shape=X_train.shape[1:]))#padding=sameによってoutputはinputと同じサイズになる\n",
    "model.add(Activation(\"relu\"))\n",
    "model.add(Conv2D(32, (3, 3)))\n",
    "model.add(Activation(\"relu\"))\n",
    "model.add(MaxPool2D(pool_size=(2,2)))#2✖️2の領域で最大の数値を出力する\n",
    "model.add(Dropout(0.25))#過学習の防止\n",
    "\n",
    "# CNN layer 2\n",
    "model.add(Conv2D(64, (3, 3), padding='same'))\n",
    "model.add(Activation('relu'))\n",
    "model.add(Conv2D(64, (3, 3)))\n",
    "model.add(Activation('relu'))\n",
    "model.add(MaxPool2D(pool_size=(2, 2)))\n",
    "model.add(Dropout(0.25))\n",
    "\n",
    "# output\n",
    "model.add(Flatten()) #output shapeが一次元になっている\n",
    "model.add(Dense(512))\n",
    "model.add(Activation('relu'))\n",
    "model.add(Dropout(0.5))\n",
    "model.add(Dense(num_classes))\n",
    "model.add(Activation('softmax'))"
   ]
  },
  {
   "cell_type": "code",
   "execution_count": 14,
   "metadata": {},
   "outputs": [
    {
     "name": "stdout",
     "output_type": "stream",
     "text": [
      "Model: \"sequential_2\"\n",
      "_________________________________________________________________\n",
      "Layer (type)                 Output Shape              Param #   \n",
      "=================================================================\n",
      "conv2d_3 (Conv2D)            (None, 32, 32, 32)        896       \n",
      "_________________________________________________________________\n",
      "activation_2 (Activation)    (None, 32, 32, 32)        0         \n",
      "_________________________________________________________________\n",
      "conv2d_4 (Conv2D)            (None, 30, 30, 32)        9248      \n",
      "_________________________________________________________________\n",
      "activation_3 (Activation)    (None, 30, 30, 32)        0         \n",
      "_________________________________________________________________\n",
      "max_pooling2d (MaxPooling2D) (None, 15, 15, 32)        0         \n",
      "_________________________________________________________________\n",
      "dropout (Dropout)            (None, 15, 15, 32)        0         \n",
      "_________________________________________________________________\n",
      "conv2d_5 (Conv2D)            (None, 15, 15, 64)        18496     \n",
      "_________________________________________________________________\n",
      "activation_4 (Activation)    (None, 15, 15, 64)        0         \n",
      "_________________________________________________________________\n",
      "conv2d_6 (Conv2D)            (None, 13, 13, 64)        36928     \n",
      "_________________________________________________________________\n",
      "activation_5 (Activation)    (None, 13, 13, 64)        0         \n",
      "_________________________________________________________________\n",
      "max_pooling2d_1 (MaxPooling2 (None, 6, 6, 64)          0         \n",
      "_________________________________________________________________\n",
      "dropout_1 (Dropout)          (None, 6, 6, 64)          0         \n",
      "_________________________________________________________________\n",
      "flatten (Flatten)            (None, 2304)              0         \n",
      "_________________________________________________________________\n",
      "dense (Dense)                (None, 512)               1180160   \n",
      "_________________________________________________________________\n",
      "activation_6 (Activation)    (None, 512)               0         \n",
      "_________________________________________________________________\n",
      "dropout_2 (Dropout)          (None, 512)               0         \n",
      "_________________________________________________________________\n",
      "dense_1 (Dense)              (None, 10)                5130      \n",
      "_________________________________________________________________\n",
      "activation_7 (Activation)    (None, 10)                0         \n",
      "=================================================================\n",
      "Total params: 1,250,858\n",
      "Trainable params: 1,250,858\n",
      "Non-trainable params: 0\n",
      "_________________________________________________________________\n",
      "None\n"
     ]
    }
   ],
   "source": [
    "print(model.summary())"
   ]
  },
  {
   "cell_type": "code",
   "execution_count": 17,
   "metadata": {},
   "outputs": [],
   "source": [
    "model.compile(\n",
    "    loss = \"categorical_crossentropy\",\n",
    "    optimizer = Adam(lr=0.001),\n",
    "    metrics = [\"accuracy\"]\n",
    ")"
   ]
  },
  {
   "cell_type": "code",
   "execution_count": 19,
   "metadata": {},
   "outputs": [
    {
     "name": "stdout",
     "output_type": "stream",
     "text": [
      "Epoch 1/10\n",
      "352/352 [==============================] - 222s 632ms/step - loss: 1.5898 - accuracy: 0.4201 - val_loss: 1.2521 - val_accuracy: 0.5586\n",
      "Epoch 2/10\n",
      "352/352 [==============================] - 167s 473ms/step - loss: 1.2103 - accuracy: 0.5691 - val_loss: 1.0169 - val_accuracy: 0.6394\n",
      "Epoch 3/10\n",
      "352/352 [==============================] - 128s 362ms/step - loss: 1.0367 - accuracy: 0.6304 - val_loss: 0.8963 - val_accuracy: 0.6862\n",
      "Epoch 4/10\n",
      "352/352 [==============================] - 127s 362ms/step - loss: 0.9301 - accuracy: 0.6736 - val_loss: 0.8203 - val_accuracy: 0.7164\n",
      "Epoch 5/10\n",
      "352/352 [==============================] - 125s 354ms/step - loss: 0.8509 - accuracy: 0.7012 - val_loss: 0.7475 - val_accuracy: 0.7374\n",
      "Epoch 6/10\n",
      "352/352 [==============================] - 124s 353ms/step - loss: 0.7870 - accuracy: 0.7252 - val_loss: 0.7065 - val_accuracy: 0.7534\n",
      "Epoch 7/10\n",
      "352/352 [==============================] - 2035s 6s/step - loss: 0.7374 - accuracy: 0.7407 - val_loss: 0.6990 - val_accuracy: 0.7650\n",
      "Epoch 8/10\n",
      "352/352 [==============================] - 1670s 5s/step - loss: 0.6905 - accuracy: 0.7584 - val_loss: 0.6806 - val_accuracy: 0.7656\n",
      "Epoch 9/10\n",
      "352/352 [==============================] - 138s 391ms/step - loss: 0.6511 - accuracy: 0.7700 - val_loss: 0.6529 - val_accuracy: 0.7756\n",
      "Epoch 10/10\n",
      "352/352 [==============================] - 195s 553ms/step - loss: 0.6170 - accuracy: 0.7811 - val_loss: 0.6349 - val_accuracy: 0.7790\n"
     ]
    }
   ],
   "source": [
    "fit = model.fit(X_train, Y_train,\n",
    "              batch_size=128,\n",
    "              epochs=10,\n",
    "              verbose=1,\n",
    "              validation_split=0.1 # 今回は訓練データセットの10%をvalidationデータセットとして使う\n",
    "                )"
   ]
  },
  {
   "cell_type": "code",
   "execution_count": 22,
   "metadata": {},
   "outputs": [
    {
     "name": "stdout",
     "output_type": "stream",
     "text": [
      "Test score: 0.6683177351951599\n",
      "Test accuracy: 0.7692999839782715\n"
     ]
    }
   ],
   "source": [
    "from tabnanny import verbose\n",
    "\n",
    "\n",
    "score = model.evaluate(X_test, Y_test,\n",
    "                 verbose=0\n",
    "                 )\n",
    "\n",
    "print(\"Test score:\", score[0])\n",
    "print(\"Test accuracy:\", score[1])"
   ]
  },
  {
   "cell_type": "code",
   "execution_count": null,
   "metadata": {},
   "outputs": [],
   "source": []
  }
 ],
 "metadata": {
  "kernelspec": {
   "display_name": "Python 3.7.6",
   "language": "python",
   "name": "python3"
  },
  "language_info": {
   "codemirror_mode": {
    "name": "ipython",
    "version": 3
   },
   "file_extension": ".py",
   "mimetype": "text/x-python",
   "name": "python",
   "nbconvert_exporter": "python",
   "pygments_lexer": "ipython3",
   "version": "3.7.6"
  },
  "orig_nbformat": 4,
  "vscode": {
   "interpreter": {
    "hash": "aa2b2ebe4fc75676bfc951637a235fd340f6905851ed912d5faec34e80708e73"
   }
  }
 },
 "nbformat": 4,
 "nbformat_minor": 2
}
